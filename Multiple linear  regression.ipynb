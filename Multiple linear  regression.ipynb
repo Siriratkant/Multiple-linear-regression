{
 "cells": [
  {
   "cell_type": "markdown",
   "metadata": {},
   "source": [
    "# Multiple Linear regression"
   ]
  },
  {
   "cell_type": "markdown",
   "metadata": {},
   "source": [
    "จากที่เราได้เรียนรู้ทฤษฎีการประมาณการแบบ multiple linear regression ไปแล้วว่ามีที่มาและการหาค่า coefficient หรือค่า Theta  อย่างไร ต่อมาเราจะสอนเพื่อนๆเขียน code ในการประมาณการ โดยเราจะใช้ code จาก 2 library คือ \n",
    "* Scikit-learn \n",
    "* Statsmodels    \n",
    "\n",
    "โดยวิธีการประมาณการหลังบ้านจะเหมือนกัน แต่ว่าผลที่ได้นั้นก็ขึ้นอยู่กับว่าเราต้องการข้อมูลอะไร หรือต้องการให้แสดงผลอย่างไรบ้าง พร้อมทั้งเราจะสอนเพื่อนๆตีความผลที่ได้โดยใช้หลักทางสถิติเข้ามาอธิบาย ซึ่งมีขั้นตอนต่างๆ ดังนี้\n",
    "\n",
    "**1. การเตรียมข้อมูลก่อนทำการประมาณการ**   \n",
    "**2. Sklearn: Multiple linear regression**   \n",
    "**3. Statsmodels: Multiple Linear regression**   \n",
    "**4. การตีความโดยใช้หลักทางสถิติ**"
   ]
  },
  {
   "cell_type": "markdown",
   "metadata": {},
   "source": [
    "## 1. การเตรียมข้อมูลก่อนทำการประมาณการ"
   ]
  },
  {
   "cell_type": "code",
   "execution_count": 1,
   "metadata": {},
   "outputs": [],
   "source": [
    "import pandas as pd\n",
    "import seaborn as sns\n",
    "import matplotlib.pyplot as plt\n",
    "%matplotlib inline"
   ]
  },
  {
   "cell_type": "markdown",
   "metadata": {},
   "source": [
    "* **import pandas as pd** เป็นคำสั่ง เรียกใช้ library pandas โดยเวลาเรารันคำสั่งสามารถเขียนตัวย่อว่า pd ได้ ซึ่ง pandas นำมาใช้ในการเรียกอ่านไฟล์ข้อมูลของเรา   \n",
    "\n",
    "* **import seaborn as sns** เป็น library ที่ใช้ในการ plot graph \n",
    "\n",
    "* **import matplotlib.pyplot as plt** เป็น library ที่ใช้ในการ plot graph เหมือน seaborn"
   ]
  },
  {
   "cell_type": "code",
   "execution_count": 2,
   "metadata": {
    "scrolled": true
   },
   "outputs": [
    {
     "name": "stdout",
     "output_type": "stream",
     "text": [
      "pandas  version: 0.24.2\n",
      "seaborn version: 0.9.0\n"
     ]
    }
   ],
   "source": [
    "print(f'pandas  version: {pd.__version__}')\n",
    "print(f'seaborn version: {sns.__version__}')"
   ]
  },
  {
   "cell_type": "markdown",
   "metadata": {},
   "source": [
    "* ข้างบนเป็นคำสั่งเพื่อให้คอมพิวเตอร์ตรวจสอบว่า library ที่เราเลือกมานั้นเป็น version อะไร ซึ่งที่เราใช้ก็จะเป็น pandas  version: 0.24.2\n",
    "seaborn version: 0.9.0"
   ]
  },
  {
   "cell_type": "code",
   "execution_count": 3,
   "metadata": {
    "scrolled": false
   },
   "outputs": [
    {
     "data": {
      "text/html": [
       "<div>\n",
       "<style scoped>\n",
       "    .dataframe tbody tr th:only-of-type {\n",
       "        vertical-align: middle;\n",
       "    }\n",
       "\n",
       "    .dataframe tbody tr th {\n",
       "        vertical-align: top;\n",
       "    }\n",
       "\n",
       "    .dataframe thead th {\n",
       "        text-align: right;\n",
       "    }\n",
       "</style>\n",
       "<table border=\"1\" class=\"dataframe\">\n",
       "  <thead>\n",
       "    <tr style=\"text-align: right;\">\n",
       "      <th></th>\n",
       "      <th>id</th>\n",
       "      <th>date</th>\n",
       "      <th>price</th>\n",
       "      <th>bedrooms</th>\n",
       "      <th>bathrooms</th>\n",
       "      <th>sqft_living</th>\n",
       "      <th>sqft_lot</th>\n",
       "      <th>floors</th>\n",
       "      <th>waterfront</th>\n",
       "      <th>view</th>\n",
       "      <th>...</th>\n",
       "      <th>grade</th>\n",
       "      <th>sqft_above</th>\n",
       "      <th>sqft_basement</th>\n",
       "      <th>yr_built</th>\n",
       "      <th>yr_renovated</th>\n",
       "      <th>zipcode</th>\n",
       "      <th>lat</th>\n",
       "      <th>long</th>\n",
       "      <th>sqft_living15</th>\n",
       "      <th>sqft_lot15</th>\n",
       "    </tr>\n",
       "  </thead>\n",
       "  <tbody>\n",
       "    <tr>\n",
       "      <th>0</th>\n",
       "      <td>114101516</td>\n",
       "      <td>20140528T000000</td>\n",
       "      <td>310000.0</td>\n",
       "      <td>3</td>\n",
       "      <td>1.0</td>\n",
       "      <td>1430</td>\n",
       "      <td>19901</td>\n",
       "      <td>1.5</td>\n",
       "      <td>0</td>\n",
       "      <td>0</td>\n",
       "      <td>...</td>\n",
       "      <td>7</td>\n",
       "      <td>1430</td>\n",
       "      <td>0</td>\n",
       "      <td>1927</td>\n",
       "      <td>0</td>\n",
       "      <td>98028</td>\n",
       "      <td>47.7558</td>\n",
       "      <td>-122.229</td>\n",
       "      <td>1780</td>\n",
       "      <td>12697</td>\n",
       "    </tr>\n",
       "    <tr>\n",
       "      <th>1</th>\n",
       "      <td>9297300055</td>\n",
       "      <td>20150124T000000</td>\n",
       "      <td>650000.0</td>\n",
       "      <td>4</td>\n",
       "      <td>3.0</td>\n",
       "      <td>2950</td>\n",
       "      <td>5000</td>\n",
       "      <td>2.0</td>\n",
       "      <td>0</td>\n",
       "      <td>3</td>\n",
       "      <td>...</td>\n",
       "      <td>9</td>\n",
       "      <td>1980</td>\n",
       "      <td>970</td>\n",
       "      <td>1979</td>\n",
       "      <td>0</td>\n",
       "      <td>98126</td>\n",
       "      <td>47.5714</td>\n",
       "      <td>-122.375</td>\n",
       "      <td>2140</td>\n",
       "      <td>4000</td>\n",
       "    </tr>\n",
       "    <tr>\n",
       "      <th>2</th>\n",
       "      <td>1202000200</td>\n",
       "      <td>20141103T000000</td>\n",
       "      <td>233000.0</td>\n",
       "      <td>3</td>\n",
       "      <td>2.0</td>\n",
       "      <td>1710</td>\n",
       "      <td>4697</td>\n",
       "      <td>1.5</td>\n",
       "      <td>0</td>\n",
       "      <td>0</td>\n",
       "      <td>...</td>\n",
       "      <td>6</td>\n",
       "      <td>1710</td>\n",
       "      <td>0</td>\n",
       "      <td>1941</td>\n",
       "      <td>0</td>\n",
       "      <td>98002</td>\n",
       "      <td>47.3048</td>\n",
       "      <td>-122.218</td>\n",
       "      <td>1030</td>\n",
       "      <td>4705</td>\n",
       "    </tr>\n",
       "    <tr>\n",
       "      <th>3</th>\n",
       "      <td>8562750320</td>\n",
       "      <td>20141110T000000</td>\n",
       "      <td>580500.0</td>\n",
       "      <td>3</td>\n",
       "      <td>2.5</td>\n",
       "      <td>2320</td>\n",
       "      <td>3980</td>\n",
       "      <td>2.0</td>\n",
       "      <td>0</td>\n",
       "      <td>0</td>\n",
       "      <td>...</td>\n",
       "      <td>8</td>\n",
       "      <td>2320</td>\n",
       "      <td>0</td>\n",
       "      <td>2003</td>\n",
       "      <td>0</td>\n",
       "      <td>98027</td>\n",
       "      <td>47.5391</td>\n",
       "      <td>-122.070</td>\n",
       "      <td>2580</td>\n",
       "      <td>3980</td>\n",
       "    </tr>\n",
       "    <tr>\n",
       "      <th>4</th>\n",
       "      <td>7589200193</td>\n",
       "      <td>20141110T000000</td>\n",
       "      <td>535000.0</td>\n",
       "      <td>3</td>\n",
       "      <td>1.0</td>\n",
       "      <td>1090</td>\n",
       "      <td>3000</td>\n",
       "      <td>1.5</td>\n",
       "      <td>0</td>\n",
       "      <td>0</td>\n",
       "      <td>...</td>\n",
       "      <td>8</td>\n",
       "      <td>1090</td>\n",
       "      <td>0</td>\n",
       "      <td>1929</td>\n",
       "      <td>0</td>\n",
       "      <td>98117</td>\n",
       "      <td>47.6889</td>\n",
       "      <td>-122.375</td>\n",
       "      <td>1570</td>\n",
       "      <td>5080</td>\n",
       "    </tr>\n",
       "  </tbody>\n",
       "</table>\n",
       "<p>5 rows × 21 columns</p>\n",
       "</div>"
      ],
      "text/plain": [
       "           id             date     price  bedrooms  bathrooms  sqft_living  \\\n",
       "0   114101516  20140528T000000  310000.0         3        1.0         1430   \n",
       "1  9297300055  20150124T000000  650000.0         4        3.0         2950   \n",
       "2  1202000200  20141103T000000  233000.0         3        2.0         1710   \n",
       "3  8562750320  20141110T000000  580500.0         3        2.5         2320   \n",
       "4  7589200193  20141110T000000  535000.0         3        1.0         1090   \n",
       "\n",
       "   sqft_lot  floors  waterfront  view  ...  grade  sqft_above  sqft_basement  \\\n",
       "0     19901     1.5           0     0  ...      7        1430              0   \n",
       "1      5000     2.0           0     3  ...      9        1980            970   \n",
       "2      4697     1.5           0     0  ...      6        1710              0   \n",
       "3      3980     2.0           0     0  ...      8        2320              0   \n",
       "4      3000     1.5           0     0  ...      8        1090              0   \n",
       "\n",
       "   yr_built  yr_renovated  zipcode      lat     long  sqft_living15  \\\n",
       "0      1927             0    98028  47.7558 -122.229           1780   \n",
       "1      1979             0    98126  47.5714 -122.375           2140   \n",
       "2      1941             0    98002  47.3048 -122.218           1030   \n",
       "3      2003             0    98027  47.5391 -122.070           2580   \n",
       "4      1929             0    98117  47.6889 -122.375           1570   \n",
       "\n",
       "   sqft_lot15  \n",
       "0       12697  \n",
       "1        4000  \n",
       "2        4705  \n",
       "3        3980  \n",
       "4        5080  \n",
       "\n",
       "[5 rows x 21 columns]"
      ]
     },
     "execution_count": 3,
     "metadata": {},
     "output_type": "execute_result"
    }
   ],
   "source": [
    "df=pd.read_csv('C:\\\\Users\\\\LENOVO\\\\Desktop\\\\files for example\\\\kc_house_test_data.csv')\n",
    "df.head()"
   ]
  },
  {
   "cell_type": "markdown",
   "metadata": {},
   "source": [
    "* **ต่อมาเราก็สร้าง object เพื่อบรรจุข้อมูลของเรา** ชื่อว่า df จากนั้น ก็เรียกกคำสั่ง pd.read_csv เพื่อให้มันอ่านข้อมูลที่เป็นไฟล์ csv จากนั้นเราก็ใส่ที่อยู่ข้อมูลของเราลงไป   \n",
    "* **df.head()** คือคำสั่งที่ให้มันแสดงข้อมูล object ของเราโดยอ่านแค่ตรงหัว (5แถวแรก)"
   ]
  },
  {
   "cell_type": "code",
   "execution_count": 4,
   "metadata": {
    "scrolled": false
   },
   "outputs": [
    {
     "data": {
      "text/plain": [
       "(4222, 21)"
      ]
     },
     "execution_count": 4,
     "metadata": {},
     "output_type": "execute_result"
    }
   ],
   "source": [
    "df.shape"
   ]
  },
  {
   "cell_type": "markdown",
   "metadata": {},
   "source": [
    "* **df.shape** เป็นคำสั่งให้มันแสดงข้อมูลทั้งหมดว่ามีกี่แถวและกี่คอลัมน์ ในที่นี้มีทั้งหมด 4222 แถว และ 21 คอลัมน์"
   ]
  },
  {
   "cell_type": "code",
   "execution_count": 5,
   "metadata": {
    "scrolled": true
   },
   "outputs": [
    {
     "data": {
      "text/plain": [
       "Index(['id', 'date', 'price', 'bedrooms', 'bathrooms', 'sqft_living',\n",
       "       'sqft_lot', 'floors', 'waterfront', 'view', 'condition', 'grade',\n",
       "       'sqft_above', 'sqft_basement', 'yr_built', 'yr_renovated', 'zipcode',\n",
       "       'lat', 'long', 'sqft_living15', 'sqft_lot15'],\n",
       "      dtype='object')"
      ]
     },
     "execution_count": 5,
     "metadata": {},
     "output_type": "execute_result"
    }
   ],
   "source": [
    "df.columns"
   ]
  },
  {
   "cell_type": "markdown",
   "metadata": {},
   "source": [
    "* **df.columns** เป็นคำสั่งเรียกดูคอลัมน์ใน object หรือคอลัมน์ในข้อมูลของเรานั่นเอง"
   ]
  },
  {
   "cell_type": "code",
   "execution_count": 6,
   "metadata": {
    "scrolled": true
   },
   "outputs": [
    {
     "name": "stdout",
     "output_type": "stream",
     "text": [
      "<class 'pandas.core.frame.DataFrame'>\n",
      "RangeIndex: 4222 entries, 0 to 4221\n",
      "Data columns (total 21 columns):\n",
      "id               4222 non-null int64\n",
      "date             4222 non-null object\n",
      "price            4222 non-null float64\n",
      "bedrooms         4222 non-null int64\n",
      "bathrooms        4222 non-null float64\n",
      "sqft_living      4222 non-null int64\n",
      "sqft_lot         4222 non-null int64\n",
      "floors           4222 non-null float64\n",
      "waterfront       4222 non-null int64\n",
      "view             4222 non-null int64\n",
      "condition        4222 non-null int64\n",
      "grade            4222 non-null int64\n",
      "sqft_above       4222 non-null int64\n",
      "sqft_basement    4222 non-null int64\n",
      "yr_built         4222 non-null int64\n",
      "yr_renovated     4222 non-null int64\n",
      "zipcode          4222 non-null int64\n",
      "lat              4222 non-null float64\n",
      "long             4222 non-null float64\n",
      "sqft_living15    4222 non-null int64\n",
      "sqft_lot15       4222 non-null int64\n",
      "dtypes: float64(5), int64(15), object(1)\n",
      "memory usage: 692.8+ KB\n"
     ]
    }
   ],
   "source": [
    "df.info()"
   ]
  },
  {
   "cell_type": "markdown",
   "metadata": {},
   "source": [
    "* **df.info()** เป็นคำสั่งที่ใช้เรียกดูว่า ข้อมูลในแต่ละคอลัมน์ของเรานั้นเป็นลักษณอย่างไร อันนี้ถือว่าสำคัญมากในการประมาณการข้อมูล อันแรกที่เราจำเป็นต้องดูคือลักษณะของข้อมูล (dtypes)ในบรรทัดรองสุดท้าย ซึ่งมีทั้งหมด 3 แบบ (รูปแบบของข้อมูลในคอมพิวเตอร์มีหลายแบบ เช่น boolean , integer,floating point string เป็นต้น แต่ข้อมูลของเรามี 3 แบบเท่านั้น ) คือ\n",
    "\n",
    "    * **Float64(5)** นั่นคือมีคอลัมน์ที่เป็นจำนวนทศนิยม อยู่ 5 คอลัมน์ \n",
    "    * **int64(15)** มีคอลัมน์ที่เป็นจำนวนเต็มอยู่ 15 คอลัมน์ \n",
    "    * **object (1)** คือมีข้อมูลหลายๆ character ในที่นี้ช่อง date ของเราเป็น object เพราะมันรวมกันของ float+string  \n",
    "\n",
    "ซึ่งการประมาณการข้อมูลนั้นหากมีข้อมูลที่ไม่ใช่ float64 และ int64 จะไม่สามรถประมาณการได้ ดังนั้นเราจำเป็นที่จะต้องตัดข้อมูลที่เป็น object ออก"
   ]
  },
  {
   "cell_type": "code",
   "execution_count": 7,
   "metadata": {},
   "outputs": [
    {
     "data": {
      "text/html": [
       "<div>\n",
       "<style scoped>\n",
       "    .dataframe tbody tr th:only-of-type {\n",
       "        vertical-align: middle;\n",
       "    }\n",
       "\n",
       "    .dataframe tbody tr th {\n",
       "        vertical-align: top;\n",
       "    }\n",
       "\n",
       "    .dataframe thead th {\n",
       "        text-align: right;\n",
       "    }\n",
       "</style>\n",
       "<table border=\"1\" class=\"dataframe\">\n",
       "  <thead>\n",
       "    <tr style=\"text-align: right;\">\n",
       "      <th></th>\n",
       "      <th>price</th>\n",
       "      <th>bedrooms</th>\n",
       "      <th>bathrooms</th>\n",
       "      <th>sqft_living</th>\n",
       "      <th>sqft_lot</th>\n",
       "      <th>floors</th>\n",
       "      <th>waterfront</th>\n",
       "      <th>view</th>\n",
       "      <th>grade</th>\n",
       "      <th>sqft_above</th>\n",
       "      <th>sqft_basement</th>\n",
       "    </tr>\n",
       "  </thead>\n",
       "  <tbody>\n",
       "    <tr>\n",
       "      <th>0</th>\n",
       "      <td>310000.0</td>\n",
       "      <td>3</td>\n",
       "      <td>1.0</td>\n",
       "      <td>1430</td>\n",
       "      <td>19901</td>\n",
       "      <td>1.5</td>\n",
       "      <td>0</td>\n",
       "      <td>0</td>\n",
       "      <td>7</td>\n",
       "      <td>1430</td>\n",
       "      <td>0</td>\n",
       "    </tr>\n",
       "    <tr>\n",
       "      <th>1</th>\n",
       "      <td>650000.0</td>\n",
       "      <td>4</td>\n",
       "      <td>3.0</td>\n",
       "      <td>2950</td>\n",
       "      <td>5000</td>\n",
       "      <td>2.0</td>\n",
       "      <td>0</td>\n",
       "      <td>3</td>\n",
       "      <td>9</td>\n",
       "      <td>1980</td>\n",
       "      <td>970</td>\n",
       "    </tr>\n",
       "    <tr>\n",
       "      <th>2</th>\n",
       "      <td>233000.0</td>\n",
       "      <td>3</td>\n",
       "      <td>2.0</td>\n",
       "      <td>1710</td>\n",
       "      <td>4697</td>\n",
       "      <td>1.5</td>\n",
       "      <td>0</td>\n",
       "      <td>0</td>\n",
       "      <td>6</td>\n",
       "      <td>1710</td>\n",
       "      <td>0</td>\n",
       "    </tr>\n",
       "    <tr>\n",
       "      <th>3</th>\n",
       "      <td>580500.0</td>\n",
       "      <td>3</td>\n",
       "      <td>2.5</td>\n",
       "      <td>2320</td>\n",
       "      <td>3980</td>\n",
       "      <td>2.0</td>\n",
       "      <td>0</td>\n",
       "      <td>0</td>\n",
       "      <td>8</td>\n",
       "      <td>2320</td>\n",
       "      <td>0</td>\n",
       "    </tr>\n",
       "    <tr>\n",
       "      <th>4</th>\n",
       "      <td>535000.0</td>\n",
       "      <td>3</td>\n",
       "      <td>1.0</td>\n",
       "      <td>1090</td>\n",
       "      <td>3000</td>\n",
       "      <td>1.5</td>\n",
       "      <td>0</td>\n",
       "      <td>0</td>\n",
       "      <td>8</td>\n",
       "      <td>1090</td>\n",
       "      <td>0</td>\n",
       "    </tr>\n",
       "  </tbody>\n",
       "</table>\n",
       "</div>"
      ],
      "text/plain": [
       "      price  bedrooms  bathrooms  sqft_living  sqft_lot  floors  waterfront  \\\n",
       "0  310000.0         3        1.0         1430     19901     1.5           0   \n",
       "1  650000.0         4        3.0         2950      5000     2.0           0   \n",
       "2  233000.0         3        2.0         1710      4697     1.5           0   \n",
       "3  580500.0         3        2.5         2320      3980     2.0           0   \n",
       "4  535000.0         3        1.0         1090      3000     1.5           0   \n",
       "\n",
       "   view  grade  sqft_above  sqft_basement  \n",
       "0     0      7        1430              0  \n",
       "1     3      9        1980            970  \n",
       "2     0      6        1710              0  \n",
       "3     0      8        2320              0  \n",
       "4     0      8        1090              0  "
      ]
     },
     "execution_count": 7,
     "metadata": {},
     "output_type": "execute_result"
    }
   ],
   "source": [
    "df2=df.drop(['id', 'date',  'condition', 'yr_built', 'yr_renovated', 'zipcode', 'long', 'sqft_living15', 'sqft_lot15' , 'lat' ], axis=1)\n",
    "df2.head()"
   ]
  },
  {
   "cell_type": "markdown",
   "metadata": {},
   "source": [
    "* **ต่อมาเราตั้ง object ใหม่** ชื่อว่า df2 โดย df2 เป็น dataframe ใหม่ที่เราจะตัดเอาคอลัมน์ที่เราไม่ต้องการออก คำสั่งที่เราใช้คือ df.drop([ใส่ชื่อคอลัมน์],แกนที่จะตัดคือคอมลัมน์ แทนด้วยเลข 1 ถ้าเป็น 0 คือแถว) ในที่นี้เราตัดอออกเยอะหน่อยเพื่อให้สอดคล้องกับทฤษฎีที่เราสอนไปก่อนหน้านั้น"
   ]
  },
  {
   "cell_type": "code",
   "execution_count": 8,
   "metadata": {},
   "outputs": [
    {
     "name": "stdout",
     "output_type": "stream",
     "text": [
      "<class 'pandas.core.frame.DataFrame'>\n",
      "RangeIndex: 4222 entries, 0 to 4221\n",
      "Data columns (total 11 columns):\n",
      "price            4222 non-null float64\n",
      "bedrooms         4222 non-null int64\n",
      "bathrooms        4222 non-null float64\n",
      "sqft_living      4222 non-null int64\n",
      "sqft_lot         4222 non-null int64\n",
      "floors           4222 non-null float64\n",
      "waterfront       4222 non-null int64\n",
      "view             4222 non-null int64\n",
      "grade            4222 non-null int64\n",
      "sqft_above       4222 non-null int64\n",
      "sqft_basement    4222 non-null int64\n",
      "dtypes: float64(3), int64(8)\n",
      "memory usage: 362.9 KB\n"
     ]
    }
   ],
   "source": [
    "df2.info()"
   ]
  },
  {
   "cell_type": "markdown",
   "metadata": {},
   "source": [
    "* **สุดท้ายเราก็ตรวจสอบข้อมูล** ว่ามีความสมบูรณ์พอที่จะนำไปทำการประมาณการแล้วหรือยังจากข้อมูลจะเห็นได้ว่าไม่มี object character และค่า missing value (non-null คือไม่มีช่องว่าในแต่ละแถว ทุกช่องมีค่าของมันเอง) ข้อมูลของเราก็พร้อมที่จะนำไปทำการประมาณการแล้ว เย่!"
   ]
  },
  {
   "cell_type": "markdown",
   "metadata": {},
   "source": [
    "## 2. Sklearn: Multiple linear regression"
   ]
  },
  {
   "cell_type": "markdown",
   "metadata": {},
   "source": [
    "ต่อมาจะเป็นการประมาณการโดยใช้ Sckit-learn "
   ]
  },
  {
   "cell_type": "code",
   "execution_count": 9,
   "metadata": {},
   "outputs": [],
   "source": [
    "from sklearn.linear_model import LinearRegression"
   ]
  },
  {
   "cell_type": "markdown",
   "metadata": {},
   "source": [
    "* คำสั่งแรกเป็นการ **เรียก library Scikit-learn** และการเรียกใช้คำสั่งการประมาณการแบบ Linear regression"
   ]
  },
  {
   "cell_type": "code",
   "execution_count": 10,
   "metadata": {},
   "outputs": [
    {
     "data": {
      "text/plain": [
       "LinearRegression(copy_X=True, fit_intercept=True, n_jobs=None,\n",
       "         normalize=False)"
      ]
     },
     "execution_count": 10,
     "metadata": {},
     "output_type": "execute_result"
    }
   ],
   "source": [
    "model = LinearRegression()\n",
    "model"
   ]
  },
  {
   "cell_type": "markdown",
   "metadata": {},
   "source": [
    "* ต่อมาเรา **สร้าง object ชื่อว่า model** และใส่คำสั่งให้มันประมาณการแบบ linear regression แต่ว่า เรายังไม่ได้กำหนดค่า X และ Y ดังนั้นค่าที่ออกมาจึงเป็น defult "
   ]
  },
  {
   "cell_type": "markdown",
   "metadata": {},
   "source": [
    "### Traning set"
   ]
  },
  {
   "cell_type": "code",
   "execution_count": 11,
   "metadata": {},
   "outputs": [],
   "source": [
    "X=df2.drop(columns=['price'])[:2200]\n",
    "Y=df2['price'][:2200]"
   ]
  },
  {
   "cell_type": "markdown",
   "metadata": {},
   "source": [
    "เมื่อเรามีการเรียกใช้คำสั่งการประมาณการแล้ว ต่อมา เราจะมากำหนดตัวแปร ว่าให้คอลัมน์ไหนเป็นตัวแปรอิสระ(x) และคอลัมน์ไหนเป็นตัวแปรตาม(y)\n",
    "\n",
    "   **โดยเราได้มีการกำหนดให้**   \n",
    "\n",
    "* **X เป็น object** ที่ข้างในจะมีคอลัมน์ที่เรากำหนดให้เป็นตัวแปรอิสระทั้งหมด 10 ตัว ยกเว้นคอลัมน์ price (X ประกอบไปด้วย คอลัมน์ 'bedrooms', 'bathrooms', 'sqft_living', 'sqft_lot', 'floors','waterfront', 'view', 'grade', 'sqft_above', 'sqft_basement )   \n",
    "\n",
    "* **Y เป็น object** เป็นตัวแปรที่เราต้องการทราบผล(ตัวแปรตาม) นั่นก็คือ ราคาบ้าน (ในที่นี้เราต้องการประมาณการว่า ตัวแปรอิสระ  10 ตัวนั้น ส่งผลต่อราคาบ้านหรือไม่ อย่างไร)   \n",
    "\n",
    "**เพิ่มเติม :**  \n",
    "\n",
    "* **[:2200]** เป็นคำสั่งที่เราบอกให้คอมพิวเตอร์ประมาณการข้อมูลตั้งแต่ตัวที่แถวที่ 0 ไปจนถึงแถวที่ 2200 "
   ]
  },
  {
   "cell_type": "code",
   "execution_count": 12,
   "metadata": {},
   "outputs": [
    {
     "data": {
      "text/html": [
       "<div>\n",
       "<style scoped>\n",
       "    .dataframe tbody tr th:only-of-type {\n",
       "        vertical-align: middle;\n",
       "    }\n",
       "\n",
       "    .dataframe tbody tr th {\n",
       "        vertical-align: top;\n",
       "    }\n",
       "\n",
       "    .dataframe thead th {\n",
       "        text-align: right;\n",
       "    }\n",
       "</style>\n",
       "<table border=\"1\" class=\"dataframe\">\n",
       "  <thead>\n",
       "    <tr style=\"text-align: right;\">\n",
       "      <th></th>\n",
       "      <th>bedrooms</th>\n",
       "      <th>bathrooms</th>\n",
       "      <th>sqft_living</th>\n",
       "      <th>sqft_lot</th>\n",
       "      <th>floors</th>\n",
       "      <th>waterfront</th>\n",
       "      <th>view</th>\n",
       "      <th>grade</th>\n",
       "      <th>sqft_above</th>\n",
       "      <th>sqft_basement</th>\n",
       "    </tr>\n",
       "  </thead>\n",
       "  <tbody>\n",
       "    <tr>\n",
       "      <th>0</th>\n",
       "      <td>3</td>\n",
       "      <td>1.0</td>\n",
       "      <td>1430</td>\n",
       "      <td>19901</td>\n",
       "      <td>1.5</td>\n",
       "      <td>0</td>\n",
       "      <td>0</td>\n",
       "      <td>7</td>\n",
       "      <td>1430</td>\n",
       "      <td>0</td>\n",
       "    </tr>\n",
       "    <tr>\n",
       "      <th>1</th>\n",
       "      <td>4</td>\n",
       "      <td>3.0</td>\n",
       "      <td>2950</td>\n",
       "      <td>5000</td>\n",
       "      <td>2.0</td>\n",
       "      <td>0</td>\n",
       "      <td>3</td>\n",
       "      <td>9</td>\n",
       "      <td>1980</td>\n",
       "      <td>970</td>\n",
       "    </tr>\n",
       "    <tr>\n",
       "      <th>2</th>\n",
       "      <td>3</td>\n",
       "      <td>2.0</td>\n",
       "      <td>1710</td>\n",
       "      <td>4697</td>\n",
       "      <td>1.5</td>\n",
       "      <td>0</td>\n",
       "      <td>0</td>\n",
       "      <td>6</td>\n",
       "      <td>1710</td>\n",
       "      <td>0</td>\n",
       "    </tr>\n",
       "    <tr>\n",
       "      <th>3</th>\n",
       "      <td>3</td>\n",
       "      <td>2.5</td>\n",
       "      <td>2320</td>\n",
       "      <td>3980</td>\n",
       "      <td>2.0</td>\n",
       "      <td>0</td>\n",
       "      <td>0</td>\n",
       "      <td>8</td>\n",
       "      <td>2320</td>\n",
       "      <td>0</td>\n",
       "    </tr>\n",
       "    <tr>\n",
       "      <th>4</th>\n",
       "      <td>3</td>\n",
       "      <td>1.0</td>\n",
       "      <td>1090</td>\n",
       "      <td>3000</td>\n",
       "      <td>1.5</td>\n",
       "      <td>0</td>\n",
       "      <td>0</td>\n",
       "      <td>8</td>\n",
       "      <td>1090</td>\n",
       "      <td>0</td>\n",
       "    </tr>\n",
       "  </tbody>\n",
       "</table>\n",
       "</div>"
      ],
      "text/plain": [
       "   bedrooms  bathrooms  sqft_living  sqft_lot  floors  waterfront  view  \\\n",
       "0         3        1.0         1430     19901     1.5           0     0   \n",
       "1         4        3.0         2950      5000     2.0           0     3   \n",
       "2         3        2.0         1710      4697     1.5           0     0   \n",
       "3         3        2.5         2320      3980     2.0           0     0   \n",
       "4         3        1.0         1090      3000     1.5           0     0   \n",
       "\n",
       "   grade  sqft_above  sqft_basement  \n",
       "0      7        1430              0  \n",
       "1      9        1980            970  \n",
       "2      6        1710              0  \n",
       "3      8        2320              0  \n",
       "4      8        1090              0  "
      ]
     },
     "execution_count": 12,
     "metadata": {},
     "output_type": "execute_result"
    }
   ],
   "source": [
    "X.head()"
   ]
  },
  {
   "cell_type": "code",
   "execution_count": 13,
   "metadata": {},
   "outputs": [
    {
     "data": {
      "text/plain": [
       "0    310000.0\n",
       "1    650000.0\n",
       "2    233000.0\n",
       "3    580500.0\n",
       "4    535000.0\n",
       "Name: price, dtype: float64"
      ]
     },
     "execution_count": 13,
     "metadata": {},
     "output_type": "execute_result"
    }
   ],
   "source": [
    "Y.head()"
   ]
  },
  {
   "cell_type": "code",
   "execution_count": 14,
   "metadata": {},
   "outputs": [
    {
     "data": {
      "text/plain": [
       "LinearRegression(copy_X=True, fit_intercept=True, n_jobs=None,\n",
       "         normalize=False)"
      ]
     },
     "execution_count": 14,
     "metadata": {},
     "output_type": "execute_result"
    }
   ],
   "source": [
    "model.fit(X, Y)"
   ]
  },
  {
   "cell_type": "markdown",
   "metadata": {},
   "source": [
    "* **model.fit(X, Y)** เป็นการสั่งให้คอมพิวเตอร์ประมาณการข้อมูลออกมา"
   ]
  },
  {
   "cell_type": "code",
   "execution_count": 15,
   "metadata": {},
   "outputs": [
    {
     "data": {
      "text/plain": [
       "0.5949154504578794"
      ]
     },
     "execution_count": 15,
     "metadata": {},
     "output_type": "execute_result"
    }
   ],
   "source": [
    "model.score(X,Y) "
   ]
  },
  {
   "cell_type": "markdown",
   "metadata": {},
   "source": [
    "* **model.score(X, y)** เป็นคำสั่งดูค่า R-squared เป็นค่าที่บอกว่า Model multiple linear regression ที่เราใช้นี้มีความเหมาะสมกับข้อมูลไหม เดี๋ยวเราจะไปขยายผลในตอนท้ายอีกทีนะคะ"
   ]
  },
  {
   "cell_type": "code",
   "execution_count": 16,
   "metadata": {},
   "outputs": [
    {
     "data": {
      "text/plain": [
       "-444727.062095869"
      ]
     },
     "execution_count": 16,
     "metadata": {},
     "output_type": "execute_result"
    }
   ],
   "source": [
    "model.intercept_"
   ]
  },
  {
   "cell_type": "markdown",
   "metadata": {},
   "source": [
    "* **model.intercept_** คือคำสั่งดูค่า theta_0 "
   ]
  },
  {
   "cell_type": "code",
   "execution_count": 17,
   "metadata": {},
   "outputs": [
    {
     "data": {
      "text/plain": [
       "array([-1.55148181e+04, -2.98758130e+04,  1.04157719e+02, -2.37056771e-01,\n",
       "        1.46689627e+04,  4.44280514e+05,  6.79949266e+04,  9.94681879e+04,\n",
       "        3.35079583e+01,  7.06497604e+01])"
      ]
     },
     "execution_count": 17,
     "metadata": {},
     "output_type": "execute_result"
    }
   ],
   "source": [
    "model.coef_"
   ]
  },
  {
   "cell_type": "markdown",
   "metadata": {},
   "source": [
    "* **model.coef_**  เป็นการดูค่า coefficient หรือค่า Theta  ของตัวแปร x ทั้งหมด 10 ตัว "
   ]
  },
  {
   "cell_type": "markdown",
   "metadata": {},
   "source": [
    "###  Testing set"
   ]
  },
  {
   "cell_type": "markdown",
   "metadata": {},
   "source": [
    "ต่อมาเมื่อเราลองประมาณการข้อมูล training set แล้ว เราจะได้สมการประมาณการออกมา 1 สมการนั่นคือ     \n",
    "\n",
    "\n",
    "**Y = -444727.062 -1.55148181e+04 X(1) + (-2.98758130e+04) X(2)  + 1.04157719e+02 X(3) -2.37056771e-01 X(4) + 1.46689627e+04 X(5)  + 4.44280514e+05 X(6) +  6.79949266e+04 X(7) + 9.94681879e+04 X(8)  + 3.35079583e+01 X(9) + 7.06497604e+01 (10)**    \n",
    "\n",
    "\n",
    "\n",
    "ซึ่งเราจะนำสมการด้านบนที่ได้ ไปประมาณการข้อมูล Testing set ที่เหลือ "
   ]
  },
  {
   "cell_type": "code",
   "execution_count": 18,
   "metadata": {},
   "outputs": [
    {
     "data": {
      "text/html": [
       "<div>\n",
       "<style scoped>\n",
       "    .dataframe tbody tr th:only-of-type {\n",
       "        vertical-align: middle;\n",
       "    }\n",
       "\n",
       "    .dataframe tbody tr th {\n",
       "        vertical-align: top;\n",
       "    }\n",
       "\n",
       "    .dataframe thead th {\n",
       "        text-align: right;\n",
       "    }\n",
       "</style>\n",
       "<table border=\"1\" class=\"dataframe\">\n",
       "  <thead>\n",
       "    <tr style=\"text-align: right;\">\n",
       "      <th></th>\n",
       "      <th>bedrooms</th>\n",
       "      <th>bathrooms</th>\n",
       "      <th>sqft_living</th>\n",
       "      <th>sqft_lot</th>\n",
       "      <th>floors</th>\n",
       "      <th>waterfront</th>\n",
       "      <th>view</th>\n",
       "      <th>grade</th>\n",
       "      <th>sqft_above</th>\n",
       "      <th>sqft_basement</th>\n",
       "    </tr>\n",
       "  </thead>\n",
       "  <tbody>\n",
       "    <tr>\n",
       "      <th>2201</th>\n",
       "      <td>2</td>\n",
       "      <td>2.50</td>\n",
       "      <td>1390</td>\n",
       "      <td>1132</td>\n",
       "      <td>2.0</td>\n",
       "      <td>0</td>\n",
       "      <td>0</td>\n",
       "      <td>8</td>\n",
       "      <td>1130</td>\n",
       "      <td>260</td>\n",
       "    </tr>\n",
       "    <tr>\n",
       "      <th>2202</th>\n",
       "      <td>2</td>\n",
       "      <td>1.50</td>\n",
       "      <td>1360</td>\n",
       "      <td>1934</td>\n",
       "      <td>2.0</td>\n",
       "      <td>0</td>\n",
       "      <td>0</td>\n",
       "      <td>7</td>\n",
       "      <td>1360</td>\n",
       "      <td>0</td>\n",
       "    </tr>\n",
       "    <tr>\n",
       "      <th>2203</th>\n",
       "      <td>3</td>\n",
       "      <td>2.25</td>\n",
       "      <td>2260</td>\n",
       "      <td>54014</td>\n",
       "      <td>1.0</td>\n",
       "      <td>0</td>\n",
       "      <td>0</td>\n",
       "      <td>7</td>\n",
       "      <td>1450</td>\n",
       "      <td>810</td>\n",
       "    </tr>\n",
       "    <tr>\n",
       "      <th>2204</th>\n",
       "      <td>4</td>\n",
       "      <td>2.50</td>\n",
       "      <td>4070</td>\n",
       "      <td>129808</td>\n",
       "      <td>2.0</td>\n",
       "      <td>0</td>\n",
       "      <td>0</td>\n",
       "      <td>10</td>\n",
       "      <td>4070</td>\n",
       "      <td>0</td>\n",
       "    </tr>\n",
       "    <tr>\n",
       "      <th>2205</th>\n",
       "      <td>5</td>\n",
       "      <td>4.50</td>\n",
       "      <td>4400</td>\n",
       "      <td>15580</td>\n",
       "      <td>2.0</td>\n",
       "      <td>0</td>\n",
       "      <td>0</td>\n",
       "      <td>11</td>\n",
       "      <td>3390</td>\n",
       "      <td>1010</td>\n",
       "    </tr>\n",
       "  </tbody>\n",
       "</table>\n",
       "</div>"
      ],
      "text/plain": [
       "      bedrooms  bathrooms  sqft_living  sqft_lot  floors  waterfront  view  \\\n",
       "2201         2       2.50         1390      1132     2.0           0     0   \n",
       "2202         2       1.50         1360      1934     2.0           0     0   \n",
       "2203         3       2.25         2260     54014     1.0           0     0   \n",
       "2204         4       2.50         4070    129808     2.0           0     0   \n",
       "2205         5       4.50         4400     15580     2.0           0     0   \n",
       "\n",
       "      grade  sqft_above  sqft_basement  \n",
       "2201      8        1130            260  \n",
       "2202      7        1360              0  \n",
       "2203      7        1450            810  \n",
       "2204     10        4070              0  \n",
       "2205     11        3390           1010  "
      ]
     },
     "execution_count": 18,
     "metadata": {},
     "output_type": "execute_result"
    }
   ],
   "source": [
    "X_test=df2.drop(columns=['price'])[2201:]\n",
    "X_test.head()"
   ]
  },
  {
   "cell_type": "markdown",
   "metadata": {},
   "source": [
    "* เราก็ทำเหมือนขั้นตอนแรก คือการกำหนดตัวแปร ในที่นี้เราสร้าง object ขึ้นมาใหม่ ให้ชื่อว่า X_test ซึ่งเราก็ให้คอลัมน์ทั้งหมดเป็นตัวแปร X และให้ตัดคอลัมน์ price ออกเหมือนเดิม ต่างกันตรงที่เราให้มันประมาณการณ์ตั้งแต่แถวที่ 2201 ไปจนถึงแถวสุดท้าย"
   ]
  },
  {
   "cell_type": "code",
   "execution_count": 19,
   "metadata": {},
   "outputs": [
    {
     "data": {
      "text/plain": [
       "array([475381.0091982 , 391811.67592343, 480859.08765269, ...,\n",
       "       688565.46269421, 560237.26451124, 367550.6466532 ])"
      ]
     },
     "execution_count": 19,
     "metadata": {},
     "output_type": "execute_result"
    }
   ],
   "source": [
    "Y_hat=model.predict(X_test)\n",
    "Y_hat"
   ]
  },
  {
   "cell_type": "markdown",
   "metadata": {},
   "source": [
    "* และเราก็สร้าง object ที่เราต้องการทราบค่าและตั้งชื่อ object นี้ว่า Y_hat  จากนั้นก็ใช้คำสั่ง  model.predict(X_test) เป็นคำสั่งที่เราจะให้ใช้สมการที่ได้จากการประมาณการ training set ให้นำสมการที่ได้มาประมาณการข้อมูล X_test เพื่อที่จะดูว่า ค่า Y_hat ที่ได้ มีค่าใกล้เคียงกับค่า Y จริงมากน้อยแค่ไหน หรืออีกความหมายคือ สมการที่ได้นั่นมีความแม่นยำกับข้อมูลหรือไม่\n",
    "\n",
    "* ซึ่งค่า Y_hat ที่ได้นั้นจะอยู๋ในรูปของ array "
   ]
  },
  {
   "cell_type": "code",
   "execution_count": 21,
   "metadata": {
    "scrolled": true
   },
   "outputs": [
    {
     "data": {
      "text/html": [
       "<div>\n",
       "<style scoped>\n",
       "    .dataframe tbody tr th:only-of-type {\n",
       "        vertical-align: middle;\n",
       "    }\n",
       "\n",
       "    .dataframe tbody tr th {\n",
       "        vertical-align: top;\n",
       "    }\n",
       "\n",
       "    .dataframe thead th {\n",
       "        text-align: right;\n",
       "    }\n",
       "</style>\n",
       "<table border=\"1\" class=\"dataframe\">\n",
       "  <thead>\n",
       "    <tr style=\"text-align: right;\">\n",
       "      <th></th>\n",
       "      <th>index</th>\n",
       "      <th>price</th>\n",
       "      <th>bedrooms</th>\n",
       "      <th>bathrooms</th>\n",
       "      <th>sqft_living</th>\n",
       "      <th>sqft_lot</th>\n",
       "      <th>floors</th>\n",
       "      <th>waterfront</th>\n",
       "      <th>view</th>\n",
       "      <th>grade</th>\n",
       "      <th>sqft_above</th>\n",
       "      <th>sqft_basement</th>\n",
       "      <th>predicted</th>\n",
       "    </tr>\n",
       "  </thead>\n",
       "  <tbody>\n",
       "    <tr>\n",
       "      <th>0</th>\n",
       "      <td>2200</td>\n",
       "      <td>246900.0</td>\n",
       "      <td>3</td>\n",
       "      <td>1.50</td>\n",
       "      <td>1370</td>\n",
       "      <td>9800</td>\n",
       "      <td>1.0</td>\n",
       "      <td>0</td>\n",
       "      <td>0</td>\n",
       "      <td>7</td>\n",
       "      <td>1370</td>\n",
       "      <td>0</td>\n",
       "      <td>4.753810e+05</td>\n",
       "    </tr>\n",
       "    <tr>\n",
       "      <th>1</th>\n",
       "      <td>2201</td>\n",
       "      <td>635000.0</td>\n",
       "      <td>2</td>\n",
       "      <td>2.50</td>\n",
       "      <td>1390</td>\n",
       "      <td>1132</td>\n",
       "      <td>2.0</td>\n",
       "      <td>0</td>\n",
       "      <td>0</td>\n",
       "      <td>8</td>\n",
       "      <td>1130</td>\n",
       "      <td>260</td>\n",
       "      <td>3.918117e+05</td>\n",
       "    </tr>\n",
       "    <tr>\n",
       "      <th>2</th>\n",
       "      <td>2202</td>\n",
       "      <td>150000.0</td>\n",
       "      <td>2</td>\n",
       "      <td>1.50</td>\n",
       "      <td>1360</td>\n",
       "      <td>1934</td>\n",
       "      <td>2.0</td>\n",
       "      <td>0</td>\n",
       "      <td>0</td>\n",
       "      <td>7</td>\n",
       "      <td>1360</td>\n",
       "      <td>0</td>\n",
       "      <td>4.808591e+05</td>\n",
       "    </tr>\n",
       "    <tr>\n",
       "      <th>3</th>\n",
       "      <td>2203</td>\n",
       "      <td>514000.0</td>\n",
       "      <td>3</td>\n",
       "      <td>2.25</td>\n",
       "      <td>2260</td>\n",
       "      <td>54014</td>\n",
       "      <td>1.0</td>\n",
       "      <td>0</td>\n",
       "      <td>0</td>\n",
       "      <td>7</td>\n",
       "      <td>1450</td>\n",
       "      <td>810</td>\n",
       "      <td>9.720714e+05</td>\n",
       "    </tr>\n",
       "    <tr>\n",
       "      <th>4</th>\n",
       "      <td>2204</td>\n",
       "      <td>710000.0</td>\n",
       "      <td>4</td>\n",
       "      <td>2.50</td>\n",
       "      <td>4070</td>\n",
       "      <td>129808</td>\n",
       "      <td>2.0</td>\n",
       "      <td>0</td>\n",
       "      <td>0</td>\n",
       "      <td>10</td>\n",
       "      <td>4070</td>\n",
       "      <td>0</td>\n",
       "      <td>1.106295e+06</td>\n",
       "    </tr>\n",
       "  </tbody>\n",
       "</table>\n",
       "</div>"
      ],
      "text/plain": [
       "   index     price  bedrooms  bathrooms  sqft_living  sqft_lot  floors  \\\n",
       "0   2200  246900.0         3       1.50         1370      9800     1.0   \n",
       "1   2201  635000.0         2       2.50         1390      1132     2.0   \n",
       "2   2202  150000.0         2       1.50         1360      1934     2.0   \n",
       "3   2203  514000.0         3       2.25         2260     54014     1.0   \n",
       "4   2204  710000.0         4       2.50         4070    129808     2.0   \n",
       "\n",
       "   waterfront  view  grade  sqft_above  sqft_basement     predicted  \n",
       "0           0     0      7        1370              0  4.753810e+05  \n",
       "1           0     0      8        1130            260  3.918117e+05  \n",
       "2           0     0      7        1360              0  4.808591e+05  \n",
       "3           0     0      7        1450            810  9.720714e+05  \n",
       "4           0     0     10        4070              0  1.106295e+06  "
      ]
     },
     "execution_count": 21,
     "metadata": {},
     "output_type": "execute_result"
    }
   ],
   "source": [
    "dc=pd.concat([df2[2200:].reset_index(), pd.Series(Y_hat, name='predicted')], axis='columns')\n",
    "dc.head()"
   ]
  },
  {
   "cell_type": "markdown",
   "metadata": {},
   "source": [
    "* **หากเราต้องการที่จะรวมตาราง** เพื่อที่จะได้ดูเปรียบเทียบกันระหว่างค่าที่ได้จากการประมาณการ(คอลัมน์ predicted) และค่า Yจริง (คอลัมน์ price) เราสามารถใช้คำสั่ง pd.concat ด้านบนได้   \n",
    "    **\"หากค่าทั้งสองมีความใกล้เคียงกัน แสดงว่าสมการที่เราใช้นั้นมีความแม่นยำกับข้อมูล\"**   \n",
    "\n",
    "   \n",
    "* โดยเราตั้ง object ว่า dc และใส่คำสั่งรวมตารางคือ pd.concat"
   ]
  },
  {
   "cell_type": "code",
   "execution_count": 22,
   "metadata": {},
   "outputs": [
    {
     "data": {
      "text/plain": [
       "array([27666200.5590749])"
      ]
     },
     "execution_count": 22,
     "metadata": {},
     "output_type": "execute_result"
    }
   ],
   "source": [
    "model.predict([[200, 40, 70,70,66,50,77,40,90,30]])"
   ]
  },
  {
   "cell_type": "markdown",
   "metadata": {},
   "source": [
    "* หรือหากเราต้องการที่จะลองกำหนดค่าตัวแปรเองก็สามารถทำได้ โดยการใส่ตัวเลขของแต่ละ feature(แต่ละตัวแปรอิสระ) ลงไปให้ครบ คำตอบที่ได้คือ Y =27666200.5590749 "
   ]
  },
  {
   "cell_type": "markdown",
   "metadata": {},
   "source": [
    "## 3. Statsmodels: Multiple linear regression"
   ]
  },
  {
   "cell_type": "markdown",
   "metadata": {},
   "source": [
    "ต่อมาเราจะใช้ library Statsmodels ในการประมาณการ ที่เราเลือกใช้ตัวนี้เนื่องจากว่ามันจะแสดงผลทางสถิติครบเลย และขั้นตอนไม่ยุ่งยากมาก"
   ]
  },
  {
   "cell_type": "code",
   "execution_count": 23,
   "metadata": {},
   "outputs": [],
   "source": [
    "import statsmodels.api as sm\n",
    "import statsmodels.formula.api as smf"
   ]
  },
  {
   "cell_type": "markdown",
   "metadata": {},
   "source": [
    "* เรียกใช้ library Statsmodels และสามารถเขียนตัวย่อได้ว่า sm   \n",
    "* เรียกใช้คำสั่งในการเขียนสูตร และสามารถเขียนตัวย่อได้ว่า smf"
   ]
  },
  {
   "cell_type": "code",
   "execution_count": 26,
   "metadata": {},
   "outputs": [],
   "source": [
    "model_a = smf.ols(formula='price ~ + bedrooms + bathrooms + sqft_living + sqft_lot + floors + waterfront + view + grade + sqft_above + sqft_basement' , data=df2[:2201]).fit()"
   ]
  },
  {
   "cell_type": "markdown",
   "metadata": {},
   "source": [
    "* **เราสามารถทำการประมาณการได้เพียงแค่ code 1 บรรทัดเท่านั้น** ง่ายๆ โดย ตั้ง object ว่า model_a จากนั้นก็เรียกคำสั่งเขียน code ว่า  smf.ols จากนั้นก็เขียนสูตรลงไปได้เลย\n",
    "* **data = df2[:2201]** เป็นการประมาณการโดยใช้ข้อมูล Testing set \n",
    "* **.fit()** คำสั่งให้ทำการประมาณการ\n",
    "* **print(model_a.summary())** คำสั่งแสดงผล จะได้ผลออกมาดังตารางด้านล่างนี้"
   ]
  },
  {
   "cell_type": "code",
   "execution_count": 27,
   "metadata": {},
   "outputs": [
    {
     "name": "stdout",
     "output_type": "stream",
     "text": [
      "                            OLS Regression Results                            \n",
      "==============================================================================\n",
      "Dep. Variable:                  price   R-squared:                       0.595\n",
      "Model:                            OLS   Adj. R-squared:                  0.593\n",
      "Method:                 Least Squares   F-statistic:                     357.7\n",
      "Date:                Tue, 21 Jan 2020   Prob (F-statistic):               0.00\n",
      "Time:                        15:45:17   Log-Likelihood:                -29931.\n",
      "No. Observations:                2201   AIC:                         5.988e+04\n",
      "Df Residuals:                    2191   BIC:                         5.994e+04\n",
      "Df Model:                           9                                         \n",
      "Covariance Type:            nonrobust                                         \n",
      "=================================================================================\n",
      "                    coef    std err          t      P>|t|      [0.025      0.975]\n",
      "---------------------------------------------------------------------------------\n",
      "Intercept     -4.449e+05   3.79e+04    -11.734      0.000   -5.19e+05   -3.71e+05\n",
      "bedrooms      -1.553e+04   5738.222     -2.706      0.007   -2.68e+04   -4272.265\n",
      "bathrooms     -2.987e+04   9359.673     -3.192      0.001   -4.82e+04   -1.15e+04\n",
      "sqft_living     104.2042      6.567     15.867      0.000      91.326     117.083\n",
      "sqft_lot         -0.2368      0.110     -2.161      0.031      -0.452      -0.022\n",
      "floors         1.479e+04   1.11e+04      1.330      0.184   -7010.939    3.66e+04\n",
      "waterfront     4.443e+05   5.32e+04      8.347      0.000     3.4e+05    5.49e+05\n",
      "view           6.799e+04   6120.825     11.109      0.000     5.6e+04       8e+04\n",
      "grade          9.946e+04   6064.534     16.400      0.000    8.76e+04    1.11e+05\n",
      "sqft_above       33.4704      6.490      5.158      0.000      20.744      46.197\n",
      "sqft_basement    70.7338      7.831      9.032      0.000      55.376      86.091\n",
      "==============================================================================\n",
      "Omnibus:                      662.290   Durbin-Watson:                   1.961\n",
      "Prob(Omnibus):                  0.000   Jarque-Bera (JB):             3755.254\n",
      "Skew:                           1.299   Prob(JB):                         0.00\n",
      "Kurtosis:                       8.848   Cond. No.                     3.22e+17\n",
      "==============================================================================\n",
      "\n",
      "Warnings:\n",
      "[1] Standard Errors assume that the covariance matrix of the errors is correctly specified.\n",
      "[2] The smallest eigenvalue is 3.91e-23. This might indicate that there are\n",
      "strong multicollinearity problems or that the design matrix is singular.\n"
     ]
    }
   ],
   "source": [
    "print(model_a.summary())"
   ]
  },
  {
   "cell_type": "markdown",
   "metadata": {},
   "source": [
    "## 4.การตีความโดยใช้หลักทางสถิติ"
   ]
  },
  {
   "cell_type": "markdown",
   "metadata": {},
   "source": [
    "ในขั้นตอนสุดท้ายเราจะมาดูว่า สมการที่เราใช้ประมารการนั้นมีความแม่นยำกับข้อมูลของเราหรือไม่ ซึ่งเราสามารถดูจากตารางสถิตินี้ได้ ซึ่งตัวหลักๆที่เราต้องดูมีดังนี้"
   ]
  },
  {
   "cell_type": "markdown",
   "metadata": {},
   "source": [
    "* **1. R-squared** เป็นค่าที่ใช้บ่งบอกว่า สมการและตัวแปรอิสระทั้งหมด 10 ตัวที่เราใช้  สามารถใช้อธิบายการเปลี่ยนแปลงในตัวแปร Y ได้มากน้อยแค่ไหน ทั้งนี้การที่ข้อมูลของเราได้ค่า R-squared = 0.595 ถือว่ากลางๆ (ค่ายิ่งสูงยิ่งดี โดยค่า R- squared จะอยู่ระหว่าง 0<R<1 ) สาเหตุที่ทำให้ได้ค่านี้อาจจะเป็นเพราะว่า อาจจะมีตัวแปรอิสระบางตัวที่ไม่ได้มีความสัมพันธ์กับ Y หรืออาจจะมีความสัมพันธ์กับ Y แบบที่ไม่ใช่เส้นตรง "
   ]
  },
  {
   "cell_type": "markdown",
   "metadata": {},
   "source": [
    "* **2. Adjust. R - squared** เป็นการดูว่า model ที่เราใช้เหมาะสมกับข้อมูลจริง หรือเป็นเพราะตัวแปร x ที่เพิ่มขึ้น จึงทำให้ค่า R-squared นั้นสูง(โดยปกติแล้ว ค่า R-squared จะมีค่าสูงขึ้นหรือเท่าเดิม เมื่อมีตัวแปร x หรือตัวแปรอิสระเพิ่มขึ้น แต่ค่า Adj.R-squaresd จะเพิ่มขึ้นก็ต่อเมื่อตัวแปรอิสระที่เพิ่มเข้ามานั้นอธิบายตัวแปร Y ได้ดีขึ้น)    \n",
    "ดังนั้น วิธีการของ Adj. R-squared คือ การนำตัวแปรอิสระ x ออก 1 ตัว แล้วทำการประมาณค่าอีกรอบ หากค่า  Adj.R-squared  มีค่าต่างจาก R-squared มากๆ อาจจะเป็นไปได้ว่า เราใส่ตัวแปรที่สามารถอธิบายการเปลี่ยนแปลง Y น้อย หรืออาจจะไม่สามารถอิธบายการเปลี่ยนแปลงของ Y ได้เลย คือประมาณว่าเราใส่ตัวแปรเกินจำเป็นนั่นเอง"
   ]
  },
  {
   "cell_type": "markdown",
   "metadata": {},
   "source": [
    "* **F-statistic** เป็นค่าที่จะนำไปทดสอบสมมติฐาน ซึ่งหากผลออกมาว่า significant (significat คือการที่ค่า F-statistic เมื่อนำไปคำนวณแล้วค่า F ที่ได้ *มากกว่า* ค่า F-statistic ณ ระดับนัยสำคัญที่เรากำหนด ในที่นี้เรากำหนดไว้ที่ 0.05 ซึ่งเป็นที่นิยมโดยทั่วไป) **แสดงว่า มี x อย่างน้อย 1 ตัวที่มีความสัมพันธ์กับ Y** ยิ่ง F-statistic มีค่าสูง>>มีโอกาส significant มาก"
   ]
  },
  {
   "cell_type": "markdown",
   "metadata": {},
   "source": [
    "* **Prob(F-statistic)** เป็นค่า probability ของ F-statistic  หากเราไม่ต้องการคำนวณค่า F-statistic แล้วนำไปเทียบกับค่า F-statistic ณ ระดับนัยสำคัญให้ยุ่งยาก เราสามารถที่จะดูค่า probability ได้ ซึ่งหากค่าที่ได้คือ 0.000 แสดงว่า significant ทุกระดับนัยสำคัญ(ค่า Prob จะดูว่า significant หรือไม่ ดูได้จาก ถ้า Prob < ระดับนัยสำคัญ = significant ซึ่งในที่นี้ 0.000 < 0.05)"
   ]
  },
  {
   "cell_type": "markdown",
   "metadata": {},
   "source": [
    "* **t, P>l t l ,confident interval [0.025  0.975]** เป็นค่าที่ใช้บอกว่า ตัวแปรอิสระนั้นๆ มีความสัมพันธ์กับ Y หรือไม่(ดูเจาะลึกลงไปทีละตัวแปรเลย)ซึ่งในที่นี้เรามีการกำหนดระดับนัยสำคัญไว้ที่ 0.05 นั่นคือ หากค่าของตัวแปรใดในช่อง P-value มีค่ามากกว่า 0.05 แสดงว่าตัวแปรนั้นไม่มีความสัมพันธ์กับตัวแปร Y อย่างมีนัยสำคัญทางสถิติ ซึ่งจากเราดูจะเห็นได้ว่า ตัวแปร floors นั้นมีค่า coefficient หรือค่า Theta เท่ากับ 0.187 และค่า confident interval มีค่าคร่อม 0 จึงสรุปได้ว่า ตัวแปร Floors ไม่มีความสัมพันธ์กันกับตัวแปรตาม Y  อย่างมีนัยสำคัญทางสถิติ "
   ]
  },
  {
   "cell_type": "markdown",
   "metadata": {},
   "source": [
    "### ***ทำอย่างไรถึงจะได้สมการที่เหมาะสมกับข้อมูลมากที่สุด?***"
   ]
  },
  {
   "cell_type": "markdown",
   "metadata": {},
   "source": [
    "หากเราต้องการประมาณการข้อมูลใดๆ ให้แม่นยำที่สุดนั้น เราจำเป็นที่จะต้องระวังในหลายๆจุด ตั้งแต่การได้มาของข้อมูล ตลอดจนการตีความผลที่ได้ เพื่อไม่ให้เพื่อนๆสับสน เราขอแบ่งขั้นตอนการประมาณการออก เป็น 4  steps หลักๆแล้วกันนะคะ นั่นคือ   \n",
    "\n",
    "* การรวบรวมข้อมูล \n",
    "* การ clean ข้อมูล\n",
    "* การเลือก model   \n",
    "* การแก้ปัญหาเมื่อ model ไม่ fit "
   ]
  },
  {
   "cell_type": "markdown",
   "metadata": {},
   "source": [
    " **1. การรวบรวมข้อมูล**"
   ]
  },
  {
   "cell_type": "markdown",
   "metadata": {},
   "source": [
    "เราจำเป็นที่จะต้องดูให้ออกก่อนว่าข้อมูลที่เราได้มา หรือข้อมูลที่เราจะไปเก็บเพื่อนำมาทำการประมาณการเป็นข้อมูลประเภทใด ซึ่งมันมีหลักการแบ่งมากมาย แต่เราจะขอยกตัวอย่างการแบ่งข้อมูลเพื่อใช้ในการวิเคราะห์ทางสถิติ ซึ่งแบ่งออกเป็น 3 แบบหลักๆ นั่นคือ \n",
    "* **Cross section data**\n",
    "ภาษาไทยเรียกว่า ข้อมูลภาคตัดขวาง *เป็นข้อมูลที่เก็บ ณ ช่วงเวลาใดเวลาหนึ่ง* เช่น เป็นจำนวนบ้านในเมือง A ที่เก็บในวันที่ 20 เดือน 1 ปี 2020 หรือ ข้อมูล GDP ของประเทศต่างๆในปี 2020 เป็นต้น ซึ่งข้อมูลที่เราใช้ประมาณการที่ผ่านมาเป็นข้อมูลภาคตัดขวางนี้เอง\n"
   ]
  },
  {
   "cell_type": "markdown",
   "metadata": {},
   "source": [
    "* **Time series data** หรือข้อมูลอนุกรมเวลา *เป็นข้อมูลที่มีเวลาเข้ามาเกี่ยวข้อง* เป็นข้อมูลที่เก็บเรียงตามเวลา เช่น ข้อมูลจำนวนบ้านในเมือง A เก็บตั้งแต่ปี 1995 ไปจนถึงปี 2020 หรือ ข้อมูล GDP ของประเทศไทยตั้งแต่ปี 1995-2020 เป็นต้น"
   ]
  },
  {
   "cell_type": "markdown",
   "metadata": {},
   "source": [
    "* **Panel data** หรือข้อมูลผสม *เป็นข้อมูลที่ผสมระหว่าง Time series และ Cross section* เช่น ข้อมูลจำนวนบ้านในเมือง A และข้อมูลบ้านในเมือง B ในปี 1995-2020 หรือ ข้อมูล GDP ของทั้งโลกในปี 1995-2020 เป็นต้น"
   ]
  },
  {
   "cell_type": "markdown",
   "metadata": {},
   "source": [
    "หากเราไม่สามารถแยกได้ว่าข้อมูลของเราเป็นแบบไหน จะส่งผลให้เราเลือกสมการไม่เหมาะสม รวมไปถึงการตีความผลที่ได้ก็จะไม่ถูกต้อง เพราะแต่ละแบบจะมีการตีความที่แตกต่างกันออกไป"
   ]
  },
  {
   "cell_type": "markdown",
   "metadata": {},
   "source": [
    "**2. การ clean ข้อมูล**"
   ]
  },
  {
   "cell_type": "markdown",
   "metadata": {},
   "source": [
    "ขั้นตอนนี้เป็นการดูว่าเมื่อเราได้ข้อมูลมาแล้วนั้น เราต้องมาดูว่าข้อมูลเรามีความสมบูรณ์มากแค่ไหน เราจะยกตัวอย่างคร่าวๆนะคะ"
   ]
  },
  {
   "cell_type": "markdown",
   "metadata": {},
   "source": [
    "* **Missing value** แปลง่ายๆคือ ค่าที่หายไป เวลาเราได้ตารางข้อมูลมา เราจะมีคำสั่งเพื่อให้มันแสดงออกมาว่า แถวไหน ช่องไหน มีค่าที่หายไป หรือขาดหายไป เราจำเป็นที่จะต้องกำจัดข้อมูลเหล่านี้ออกเพราะมันเป็นข้อมูลที่ไม่มีคุณภาพ จะทำให้การประมาณการคลาดเคลื่อน แต่ก็มีข้อควรระวังนิดหน่อย เพราะว่าบางทีข้อมูล มี missing value ในตัวแปรอิสระ(x)ที่เราไม่ได้สนใจ แบบนี้สามารถเอามาใช้ได้"
   ]
  },
  {
   "cell_type": "markdown",
   "metadata": {},
   "source": [
    "* **Outlier** หรือจุด High leverage เป็นจุดที่ค่า x มีค่าต่างจากข้อมูลมากๆ เช่น ข้อมูลของอยู่ใน range 1-10 แต่อยู่ดีๆอีกค่าโผล่มา 1000  แบบนี้ เมื่อเราทำการประมาณการ เส้น linear regression ของเรามันจะพยายามให้เส้นใกล้เคียงค่าทุกค่า ซึ่งสมการที่ได้จะมีความคลาดเคลื่อนสูงมาก"
   ]
  },
  {
   "cell_type": "markdown",
   "metadata": {},
   "source": [
    "* **จำนวนข้อมูล** หรือข้อมูลใน Training set บางครั้ง modelของเราอาจะเหมาะสมกับข้อมูลแล้วแหละ แต่พอสมการประมาณการออกมากลับไม่ fit กับข้อมูล อาจจะเป็นเพราะเรามีจำนวนตัวอย่างข้อมูลน้อยไป โดยส่วนใหญ่แล้ว การเพิ่มจำนวนข้อมูลนี้ถือเป็นการแก้ปัญหาในเรื่องที่ model ไม่ fit ในเบื้องต้นเลย\n"
   ]
  },
  {
   "cell_type": "markdown",
   "metadata": {},
   "source": [
    "**3. การเลือก model**"
   ]
  },
  {
   "cell_type": "markdown",
   "metadata": {},
   "source": [
    "คือการเลือกรูปแบบการประมาณการข้อมูล ทั้งขึ้นอยู่กับข้อมูลของเราด้วย หากเป็นข้อมูลที่ซับซ้อน เราอาจจะต้องมีการออกแบบสมการเอง แต่ทั้งนี้ต้องอ้างอิงหลักการทางคณิตศาสตร์และสถิติว่า X และ Y มีความสัมพันธ์กันแบบไหน อย่างไร และอีกอย่างคือ ความรู้เกี่ยวกับเรื่องนั้นๆ ที่จะมารองรับได้ว่าสมการของเราถูกต้อง หรือเราอาจจะใช้หลักการประมาณการทั่วไป ยกตัวอย่างจากที่เราได้เรียนมา เช่น"
   ]
  },
  {
   "cell_type": "markdown",
   "metadata": {},
   "source": [
    "* **Simple linear regression** เป็นการดูความสัมพันธ์ระหว่างตัวแปรอิสระ(x) 1 ตัว กับตัวแปรตาม (Y) ว่ามีความสัมพันธ์แบบเส้นตรงมากน้อยเพียงใด"
   ]
  },
  {
   "cell_type": "markdown",
   "metadata": {},
   "source": [
    "* **Multiple linear regression** เป็นการดูความสัมพันธ์ระหว่างตัวแปรอิสระ(x) มากกว่า 1 ตัว กับตัวแปรตาม(Y) ว่ามีความสัมพันธ์แบบเส้นตรงมากน้อยเพียงใด"
   ]
  },
  {
   "cell_type": "markdown",
   "metadata": {},
   "source": [
    "* **Polynomial regression** เป็นการประมาณการที่ยังอยู่ในรูปของ linear regression แต่ว่าตัวแปรอิสระบางตัวอยู่ในรูปของเลขยกกำลัง เช่น Y = b + ax + cx^2... เป็นต้น"
   ]
  },
  {
   "cell_type": "markdown",
   "metadata": {},
   "source": [
    "นี่ถือเป็น model เบื้องต้นเท่านั้น หากเจาะลึกการประมารการแบบ regression ลงไปจริงๆแล้วมี model มากมาย ซึ่งแต่ละ model ก็ออกแบบมาเพื่อให้สอดคล้องกับข้อมูลที่ได้มา "
   ]
  },
  {
   "cell_type": "markdown",
   "metadata": {},
   "source": [
    "**4. การแก้ปัญหาเมื่อ model ไม่ fit**"
   ]
  },
  {
   "cell_type": "markdown",
   "metadata": {},
   "source": [
    "อธิบายเพิ่มเติมนะคะ การที่ค่า R-squared ผลออกมามีค่าต่ำ นั้นเป็นเพราะว่าลักษณะของข้อมูลบางอย่างไปละเมิด assumption ของ OLS ทำให้การประมารการของเรานั้นมันเอนเอียง(bias)\n"
   ]
  },
  {
   "cell_type": "markdown",
   "metadata": {},
   "source": [
    "หากว่าเราทำตามขั้นตอนทั้งหมดมาแล้ว แล้วผลวิเคราะห์ทางสถิติออกมาว่า Model เรา fit แค่ 0.59% (R-squared = 0.59) หรือ ตัวแปรอิสระบางตัวไม่มีความสัมพันธ์กับตัวแปรตาม เราจะทำอย่างไรดี การแก้ปัญหานี้ต้องใช้ความรู้ทางสถิติมากพอสมควร คือเรายิ่งรู้ลึก เราก็จะยิ่งแก้ปัญหาได้ตรงจุดมากขึ้น ในที่นี้ เราจะยกตัวอย่างปัญหาและการแก้ไขบื้องต้นกันก่อนนะคะ"
   ]
  },
  {
   "cell_type": "markdown",
   "metadata": {},
   "source": [
    "* **Multicolinearity** เป็นปัญหาที่ตัวแปรอิสระมีความสัมพันธ์กันเองเป็นธรรมชาติอยู่แล้ว เช่น X2 เพิ่มขึ้น ส่งผลให้ X3 เพิ่มขึ้น เป็นต้น ซึ่งปัญหานี้แบ่งออกเป็น 2 ประเภทคือ Perfect multicolinearity และ multicolinearity   \n",
    "\n",
    "     ปัญหานี้ถ้าพูดแบบชาวบ้านคือ จะทำให้ผลการประมาณการที่ออกมาบอกว่า X2 และ X3 ไม่มีความสัมพันธ์กับ Y แต่จริงๆแล้ว X2 หรือ X3 นั้นอาจจะมีความสัมพันธ์กับ Y   \n",
    "\n",
    "     ในการแก้ไขปัญหาดังกล่าวนั้น เบื้องต้นคือ เราอาจจะเพิ่มจำนวนข้อมูลลงไปก่อน หรืออีกทางคือ เราอาจจะตัดตัวแปรอิสระที่เป็นปัญหาออก เช่นอาจจะตัด X3 ออก แต่ว่าเราต้องแน่ใจว่าตัวที่ตัดออกไป *ต้องเป็นตัวแปรที่ไม่มีอิทธิพลต่อตัวแปร y* ไม่งั้นเราจะเจอกับปัญหาใหม่คือ การกำหนดแบบจำลองผิดพลาดๅ (model missspecificaton)"
   ]
  },
  {
   "cell_type": "markdown",
   "metadata": {},
   "source": [
    "* **Heteroscedasticity** เป็นปัญหาที่ค่า error มีค่าต่างกันมากๆๆๆ ปัญหานี้อาจจะมาจากข้อมูลมี outlier  ซึ่งเราไม่ได้ใส่ตัวแปรนี้ลงไป เป็นต้น   \n",
    "     ในการแก้ไขปัญหาดังกล่าวนั้น เบื้องต้น เราจะทำการประมาณการใหม่ให้เป็นแบบ Generalized least squared (GLS)"
   ]
  },
  {
   "cell_type": "markdown",
   "metadata": {},
   "source": [
    "* **Autocorrelation** เป็นปัญหาที่เกิดกับข้อมูลที่มีเรื่องเวลาเข้ามาเกี่ยวข้อง ซึ่งข้อมูลของเราเป็นแบบ cross section ดังนั้นก็จะไม่เกิดปัญหาดังกล่าว ปัญหา Autocorrelation คือ ข้อมูลไม่เป็นอิสระต่อกัน เช่น ให้ x คือ การใช้จ่าย สมมติ การใช้จ่ายในเดือนนี้สูง อาจจะส่งผลทำให้การใช้จ่ายเดือนถัดไปลดลง นั่นคือตัวข้อมูลไม่ได้เป็นอิสระต่อกันนั่นเอง"
   ]
  },
  {
   "cell_type": "markdown",
   "metadata": {},
   "source": [
    "ทั้งหมดที่กล่าวมานี้ ถือว่าเป็นพื้นฐานในการทำการประมาณการแบบ linear regression ซึ่งเพื่อนๆสามารถนำไปต่อยอดได้เพิ่มเติมได้ เช่น ต่อยอดด้านการพยากรณ์ราคาหุ้นในอนาคต การประมาณการเศรษฐกิจ เป็นต้น ทั้งนี้ก็ขึ้นอยู่กับงานที่เพื่อนๆทำแล้วว่า มีข้อมูลแบบไหน ต้องการที่จะวางแผนอะไร จุดประสงค์คืออะไร จะได้เลือกใช้ model ให้ถูกต้อง   \n",
    "\n",
    "ในบทต่อไป เราจะพูดถึงการทำ machine learning แบบ Classification กันค่ะ"
   ]
  }
 ],
 "metadata": {
  "kernelspec": {
   "display_name": "Python 3",
   "language": "python",
   "name": "python3"
  },
  "language_info": {
   "codemirror_mode": {
    "name": "ipython",
    "version": 3
   },
   "file_extension": ".py",
   "mimetype": "text/x-python",
   "name": "python",
   "nbconvert_exporter": "python",
   "pygments_lexer": "ipython3",
   "version": "3.7.3"
  }
 },
 "nbformat": 4,
 "nbformat_minor": 2
}
